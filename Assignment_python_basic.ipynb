{
  "nbformat": 4,
  "nbformat_minor": 0,
  "metadata": {
    "colab": {
      "provenance": []
    },
    "kernelspec": {
      "name": "python3",
      "display_name": "Python 3"
    },
    "language_info": {
      "name": "python"
    }
  },
  "cells": [
    {
      "cell_type": "markdown",
      "source": [
        "# Assignment Python basic\n",
        "1. What is python? Why is it popular?\n",
        "  - Python is a computer programing language. Python is popular because, it is widely used in the in the industry, has a vastly growing in built library and it is easy to learn.\n",
        "2. What is an interpreter in python?\n",
        "  - Interpreter is a computer program that convertseach high level program into machine code. That is it converts the command into code that computer can understand\n",
        "3. What are predefined keywords in python?\n",
        "  - Keywords are some predefined words that has some special meaning in python ex:print, type.\n",
        "4. Can keywords be used as variable names?\n",
        "  - Python keywors are reserved words with special meanings, they cannot be used as variable names.\n",
        "5. What is mutability in python?\n",
        "  - The ability of an object to be changed once after it is creared is called mutable object. Ex: list\n",
        "6. Why are lists mutable, but tuples are immutable?\n",
        "  - We can change the content of a list once after it created,that is it can be modified. Hence list is mutable.\n",
        "  - In the case of tuples, it can't be modified after creation, that is the content of the tuples cannot be change once it is created in python\n",
        "7. What is the difference between \"==\" and \"is\" operators in python?\n",
        "  - The \"==\" operator helps to compare the equality of two objects, While \"is\" operator helps to check whether different variables point to the same object in the memory.\n",
        "8. What are logical operators in Python?\n",
        "  - Logical operators in Python are \"and\", \"or\" and \"not\".They are used to combine conditional statements. Logical operators returns \"True\" or \"False\" output only.\n",
        "9. What is type casting in Python?\n",
        "  - Type casting is the process of changing a the data type of a value, object or a variable into another data type.Ex: intiger to float\n",
        "10. What is the difference between implicit and explicit type casting?\n",
        "  - Implicit Type casting means, Python can undestand these functions implicitly, by Python interpreter\n",
        "  - Explicit function is performed by the user explicitly using programe code\n",
        "11. What is the purpose of conditional statements in python?\n",
        "  - Conditional statements are used to make decisions on the basis on some conditions. ex: if else; if elif else.\n",
        "12. How does the elif statement work?\n",
        "  - In Python, elif is short for \"else if\" and is used when the first if statement isn't true, but you want to check for another condition.\n",
        "13. What is the difference between for and while loop?\n",
        "  - “for” loops are used for iterating over a sequence of elements, while “while” loops are used for executing code until a specified condition becomes False\n",
        "14. Describe a scenario where \"while\" loopis more convenient than \"for\" loop?\n",
        "  - In general, you should use a for loop when you know how many times the loop should run. If you want the loop to break based on a condition other than the number of times it runs, you should use a while loop.\n",
        "  - ex: If you want to make a program to add the details for students registering for a course, but you dont know how many students are going to register"
      ],
      "metadata": {
        "id": "G5fdoLpaNxop"
      }
    },
    {
      "cell_type": "code",
      "source": [
        "#1. write a Python program to print \"Hello, World!\"\n",
        "print(\"Hello, World!\")\n"
      ],
      "metadata": {
        "colab": {
          "base_uri": "https://localhost:8080/"
        },
        "id": "cOT_fdAUun9Q",
        "outputId": "c4f68e51-0e45-437a-d9a9-4b22948c6e11"
      },
      "execution_count": null,
      "outputs": [
        {
          "output_type": "stream",
          "name": "stdout",
          "text": [
            "Hello, World!\n"
          ]
        }
      ]
    },
    {
      "cell_type": "code",
      "source": [
        "#2. Write a Python program that displays your age and name?\n",
        "name= \"Jyothsna Unnikrishnan\"\n",
        "age= 35\n",
        "print(\"My name is:\",name)\n",
        "print(\"age:\",age)"
      ],
      "metadata": {
        "colab": {
          "base_uri": "https://localhost:8080/"
        },
        "id": "ualL0T1xu3q_",
        "outputId": "a05dfdd8-e6a4-4bf8-a7fc-9edc9e744029"
      },
      "execution_count": null,
      "outputs": [
        {
          "output_type": "stream",
          "name": "stdout",
          "text": [
            "My name is: Jyothsna Unnikrishnan\n",
            "age: 35\n"
          ]
        }
      ]
    },
    {
      "cell_type": "code",
      "source": [
        "#3.Write code to print all predefined keywords in python using the python keyword library?\n",
        "help(\"keywords\")"
      ],
      "metadata": {
        "colab": {
          "base_uri": "https://localhost:8080/"
        },
        "id": "ofjXNmxrvur0",
        "outputId": "265e2f90-f869-4f4f-cb0a-37248cbdcd95"
      },
      "execution_count": null,
      "outputs": [
        {
          "output_type": "stream",
          "name": "stdout",
          "text": [
            "\n",
            "Here is a list of the Python keywords.  Enter any keyword to get more help.\n",
            "\n",
            "False               class               from                or\n",
            "None                continue            global              pass\n",
            "True                def                 if                  raise\n",
            "and                 del                 import              return\n",
            "as                  elif                in                  try\n",
            "assert              else                is                  while\n",
            "async               except              lambda              with\n",
            "await               finally             nonlocal            yield\n",
            "break               for                 not                 \n",
            "\n"
          ]
        }
      ]
    },
    {
      "cell_type": "code",
      "source": [
        "#4. Write a program to check if a given word is a python keyword?\n",
        "keyword.iskeyword(\"and\")"
      ],
      "metadata": {
        "colab": {
          "base_uri": "https://localhost:8080/"
        },
        "id": "NU5y4pvxxgCa",
        "outputId": "b5fb6771-810f-4a56-c2ce-30646543e4a1"
      },
      "execution_count": null,
      "outputs": [
        {
          "output_type": "execute_result",
          "data": {
            "text/plain": [
              "True"
            ]
          },
          "metadata": {},
          "execution_count": 4
        }
      ]
    },
    {
      "cell_type": "code",
      "source": [
        "keyword.iskeyword(\"hello\")"
      ],
      "metadata": {
        "id": "bFqWYaUGzv1O",
        "colab": {
          "base_uri": "https://localhost:8080/"
        },
        "outputId": "1840b6a3-16a7-4ff3-c026-a8e1616460ee"
      },
      "execution_count": null,
      "outputs": [
        {
          "output_type": "execute_result",
          "data": {
            "text/plain": [
              "False"
            ]
          },
          "metadata": {},
          "execution_count": 3
        }
      ]
    },
    {
      "cell_type": "code",
      "source": [
        "from typing import Tuple\n",
        "#5. Create a list and tuple in Python, and demonstare\n",
        "#   how attempting to change an element works differently for each?\n",
        "list= [54, 4.5, \"star\", 65, \"moon\"]\n",
        "tuple=(36, 6.78, \"river\", 56, \"place\")\n",
        "\n"
      ],
      "metadata": {
        "id": "Zy_HNZ9vZ-GF"
      },
      "execution_count": null,
      "outputs": []
    },
    {
      "cell_type": "code",
      "source": [
        "list [2]=\"sun\" # since list is a mutable function we can change the contents"
      ],
      "metadata": {
        "id": "wTArJBzIdZ3J"
      },
      "execution_count": null,
      "outputs": []
    },
    {
      "cell_type": "code",
      "source": [
        "print (list) # Current list \"star\" will change to \"sun\""
      ],
      "metadata": {
        "colab": {
          "base_uri": "https://localhost:8080/"
        },
        "id": "WjW0WgNydmR6",
        "outputId": "af1e5ea0-5ac5-48a2-d84d-24bd8f1d45b3"
      },
      "execution_count": null,
      "outputs": [
        {
          "output_type": "stream",
          "name": "stdout",
          "text": [
            "[54, 4.5, 'sun', 65, 'moon']\n"
          ]
        }
      ]
    },
    {
      "cell_type": "code",
      "source": [
        "tuple [2]=\"lake\" # since tuple is a immutable function we can't change the contents.Hence it will throw an error if we exceute."
      ],
      "metadata": {
        "colab": {
          "base_uri": "https://localhost:8080/",
          "height": 141
        },
        "id": "NPHGoL7QdrDF",
        "outputId": "da97d6db-7c77-45d0-ebe3-e551ce3b0689"
      },
      "execution_count": null,
      "outputs": [
        {
          "output_type": "error",
          "ename": "TypeError",
          "evalue": "'tuple' object does not support item assignment",
          "traceback": [
            "\u001b[0;31m---------------------------------------------------------------------------\u001b[0m",
            "\u001b[0;31mTypeError\u001b[0m                                 Traceback (most recent call last)",
            "\u001b[0;32m<ipython-input-34-65868360e11c>\u001b[0m in \u001b[0;36m<cell line: 1>\u001b[0;34m()\u001b[0m\n\u001b[0;32m----> 1\u001b[0;31m \u001b[0mtuple\u001b[0m \u001b[0;34m[\u001b[0m\u001b[0;36m2\u001b[0m\u001b[0;34m]\u001b[0m\u001b[0;34m=\u001b[0m\u001b[0;34m\"lake\"\u001b[0m \u001b[0;31m# since tuple is a immutable function we can't change the contents\u001b[0m\u001b[0;34m\u001b[0m\u001b[0;34m\u001b[0m\u001b[0m\n\u001b[0m",
            "\u001b[0;31mTypeError\u001b[0m: 'tuple' object does not support item assignment"
          ]
        }
      ]
    },
    {
      "cell_type": "code",
      "source": [
        "#6. Write a function to demonstrate the behaviour of mutable and immutable arguments?\n",
        "list=[\"maya\", 45, 6.7, \"home\"] # list ia a mutable function, we can change the content once after created\n",
        "list [0]= \"tree\""
      ],
      "metadata": {
        "id": "OxBWfS4ZBA3I"
      },
      "execution_count": null,
      "outputs": []
    },
    {
      "cell_type": "code",
      "source": [
        "print (list)"
      ],
      "metadata": {
        "colab": {
          "base_uri": "https://localhost:8080/"
        },
        "id": "40yriTCSEuBm",
        "outputId": "5b356f8c-02a0-4d61-dc33-10d7fb0421ec"
      },
      "execution_count": null,
      "outputs": [
        {
          "output_type": "stream",
          "name": "stdout",
          "text": [
            "['tree', 45, 6.7, 'home']\n"
          ]
        }
      ]
    },
    {
      "cell_type": "code",
      "source": [
        "tuple=(\"car\", 6.7, 8,10) #tuple is a bulit in immutable object, which can't be changes once after created\n"
      ],
      "metadata": {
        "id": "zppK1UUJExhZ"
      },
      "execution_count": null,
      "outputs": []
    },
    {
      "cell_type": "code",
      "source": [
        "tuple (0)= \"bike\" # it will throw an error because tuple is an immutable function"
      ],
      "metadata": {
        "colab": {
          "base_uri": "https://localhost:8080/",
          "height": 106
        },
        "id": "drmYqKvGFCjx",
        "outputId": "8cbc744a-35b8-42f6-95b7-48e403c9f8e1"
      },
      "execution_count": null,
      "outputs": [
        {
          "output_type": "error",
          "ename": "SyntaxError",
          "evalue": "cannot assign to function call here. Maybe you meant '==' instead of '='? (<ipython-input-38-8ab9b6ce7bb5>, line 1)",
          "traceback": [
            "\u001b[0;36m  File \u001b[0;32m\"<ipython-input-38-8ab9b6ce7bb5>\"\u001b[0;36m, line \u001b[0;32m1\u001b[0m\n\u001b[0;31m    tuple (0)= \"bike\"\u001b[0m\n\u001b[0m    ^\u001b[0m\n\u001b[0;31mSyntaxError\u001b[0m\u001b[0;31m:\u001b[0m cannot assign to function call here. Maybe you meant '==' instead of '='?\n"
          ]
        }
      ]
    },
    {
      "cell_type": "code",
      "source": [
        "# another example is a string\n",
        "b= \"car\"\n",
        "b [0]"
      ],
      "metadata": {
        "colab": {
          "base_uri": "https://localhost:8080/",
          "height": 35
        },
        "id": "1mTGkIxzFdaM",
        "outputId": "ea0b1247-719c-4160-983d-817513d24a03"
      },
      "execution_count": null,
      "outputs": [
        {
          "output_type": "execute_result",
          "data": {
            "text/plain": [
              "'c'"
            ],
            "application/vnd.google.colaboratory.intrinsic+json": {
              "type": "string"
            }
          },
          "metadata": {},
          "execution_count": 40
        }
      ]
    },
    {
      "cell_type": "code",
      "source": [
        "b[0]= \"d\" # string object is another example of immutable function"
      ],
      "metadata": {
        "colab": {
          "base_uri": "https://localhost:8080/",
          "height": 141
        },
        "id": "ub76V942GHL0",
        "outputId": "d55b3a44-fc33-4d7a-bb89-4640f284ae7c"
      },
      "execution_count": null,
      "outputs": [
        {
          "output_type": "error",
          "ename": "TypeError",
          "evalue": "'str' object does not support item assignment",
          "traceback": [
            "\u001b[0;31m---------------------------------------------------------------------------\u001b[0m",
            "\u001b[0;31mTypeError\u001b[0m                                 Traceback (most recent call last)",
            "\u001b[0;32m<ipython-input-41-43b5b1acc1f3>\u001b[0m in \u001b[0;36m<cell line: 1>\u001b[0;34m()\u001b[0m\n\u001b[0;32m----> 1\u001b[0;31m \u001b[0mb\u001b[0m\u001b[0;34m[\u001b[0m\u001b[0;36m0\u001b[0m\u001b[0;34m]\u001b[0m\u001b[0;34m=\u001b[0m \u001b[0;34m\"d\"\u001b[0m\u001b[0;34m\u001b[0m\u001b[0;34m\u001b[0m\u001b[0m\n\u001b[0m",
            "\u001b[0;31mTypeError\u001b[0m: 'str' object does not support item assignment"
          ]
        }
      ]
    },
    {
      "cell_type": "code",
      "source": [
        "#. 8 Write a program to demonstrte the use of logical operators?\n",
        "# AND operator returns true if both operands are true\n",
        "#ex\n",
        "a=12\n",
        "b=3\n",
        "if (a>10 and b<5):\n",
        "  print(\"True\")\n",
        "else:\n",
        "  print(\"False\")\n"
      ],
      "metadata": {
        "id": "UHij6vtbGnuh",
        "colab": {
          "base_uri": "https://localhost:8080/"
        },
        "outputId": "0d8f2a16-1703-482e-b6fe-0057771b725c"
      },
      "execution_count": null,
      "outputs": [
        {
          "output_type": "stream",
          "name": "stdout",
          "text": [
            "True\n"
          ]
        }
      ]
    },
    {
      "cell_type": "code",
      "source": [
        "a=12\n",
        "b=3\n",
        "if (a>10 and b>5):\n",
        "  print(\"True\")\n",
        "else:\n",
        "  print(\"False\")"
      ],
      "metadata": {
        "colab": {
          "base_uri": "https://localhost:8080/"
        },
        "id": "JKJqBjiaZcMa",
        "outputId": "0a8e88ec-ee4c-4e8d-b7a9-ab974c0e4ce1"
      },
      "execution_count": null,
      "outputs": [
        {
          "output_type": "stream",
          "name": "stdout",
          "text": [
            "False\n"
          ]
        }
      ]
    },
    {
      "cell_type": "code",
      "source": [
        "# OR operator returns true if any ony of the operans is true\n",
        "#ex\n",
        "a=12\n",
        "b=3\n",
        "if (a>10 or b<5):\n",
        "  print(\"True\")\n",
        "else:\n",
        "  print(\"False\")"
      ],
      "metadata": {
        "colab": {
          "base_uri": "https://localhost:8080/"
        },
        "id": "clKJDLWMZv1D",
        "outputId": "ce49eb81-4ac5-4e9d-bb0f-e6f6a1d2922e"
      },
      "execution_count": null,
      "outputs": [
        {
          "output_type": "stream",
          "name": "stdout",
          "text": [
            "True\n"
          ]
        }
      ]
    },
    {
      "cell_type": "code",
      "source": [
        "a=12\n",
        "b=3\n",
        "if (a>10 or b>5):\n",
        "  print(\"True\")\n",
        "else:\n",
        "  print(\"False\")"
      ],
      "metadata": {
        "colab": {
          "base_uri": "https://localhost:8080/"
        },
        "id": "ACJMczq0aGJP",
        "outputId": "08b331d9-74fb-4a8a-cf0f-fd94f6faad07"
      },
      "execution_count": null,
      "outputs": [
        {
          "output_type": "stream",
          "name": "stdout",
          "text": [
            "True\n"
          ]
        }
      ]
    },
    {
      "cell_type": "code",
      "source": [
        "a=12\n",
        "b=3\n",
        "if (a<10 or b>5):\n",
        "  print(\"True\")\n",
        "else:\n",
        "  print(\"False\")"
      ],
      "metadata": {
        "colab": {
          "base_uri": "https://localhost:8080/"
        },
        "id": "6VZt6i6oaJvB",
        "outputId": "38c05a0c-a0f3-4ac3-9bc0-96f58da3d365"
      },
      "execution_count": null,
      "outputs": [
        {
          "output_type": "stream",
          "name": "stdout",
          "text": [
            "False\n"
          ]
        }
      ]
    },
    {
      "cell_type": "code",
      "source": [
        "#NOT operator inverts the value of operand\n",
        "name=\"maya\"\n",
        "if not name==\"maya\":\n",
        "  print(\"True\")\n",
        "else:\n",
        "  print(\"False\")\n"
      ],
      "metadata": {
        "colab": {
          "base_uri": "https://localhost:8080/"
        },
        "id": "5sjebMl_av_1",
        "outputId": "bed90a42-a8cf-4d51-9566-be9a916831fd"
      },
      "execution_count": null,
      "outputs": [
        {
          "output_type": "stream",
          "name": "stdout",
          "text": [
            "False\n"
          ]
        }
      ]
    },
    {
      "cell_type": "code",
      "source": [],
      "metadata": {
        "id": "3AkKUb8eIBFF"
      },
      "execution_count": null,
      "outputs": []
    },
    {
      "cell_type": "code",
      "source": [
        "#9. Write a python program to convert user input from string to intiger, float\n",
        "#   boolean functions\n",
        "d= 234\n",
        "type(d)"
      ],
      "metadata": {
        "colab": {
          "base_uri": "https://localhost:8080/"
        },
        "id": "Xb9ZtkY4a75y",
        "outputId": "346838f6-ae53-4767-cba7-a93633424c91"
      },
      "execution_count": null,
      "outputs": [
        {
          "output_type": "execute_result",
          "data": {
            "text/plain": [
              "int"
            ]
          },
          "metadata": {},
          "execution_count": 2
        }
      ]
    },
    {
      "cell_type": "code",
      "source": [
        "str(d)"
      ],
      "metadata": {
        "colab": {
          "base_uri": "https://localhost:8080/",
          "height": 35
        },
        "id": "KrZont-6IMeF",
        "outputId": "55e05a12-ffd5-499e-929a-b56a80f0eed7"
      },
      "execution_count": null,
      "outputs": [
        {
          "output_type": "execute_result",
          "data": {
            "text/plain": [
              "'234'"
            ],
            "application/vnd.google.colaboratory.intrinsic+json": {
              "type": "string"
            }
          },
          "metadata": {},
          "execution_count": 3
        }
      ]
    },
    {
      "cell_type": "code",
      "source": [
        "type(d)"
      ],
      "metadata": {
        "colab": {
          "base_uri": "https://localhost:8080/"
        },
        "id": "N6PffFVAISuO",
        "outputId": "e3ecae1c-68e9-40fd-dd93-a43ec696a54f"
      },
      "execution_count": null,
      "outputs": [
        {
          "output_type": "execute_result",
          "data": {
            "text/plain": [
              "int"
            ]
          },
          "metadata": {},
          "execution_count": 4
        }
      ]
    },
    {
      "cell_type": "code",
      "source": [
        "bool (d)"
      ],
      "metadata": {
        "colab": {
          "base_uri": "https://localhost:8080/"
        },
        "id": "LkTPEgNnIUUn",
        "outputId": "d9008a91-2ce7-4cc0-b0d2-ed85da7ac467"
      },
      "execution_count": null,
      "outputs": [
        {
          "output_type": "execute_result",
          "data": {
            "text/plain": [
              "True"
            ]
          },
          "metadata": {},
          "execution_count": 5
        }
      ]
    },
    {
      "cell_type": "code",
      "source": [
        "#10 write code to demonstrate type casting with list element?\n",
        "list= [54, 4.5, \"star\", 65, \"moon\"]\n",
        "list[0]= str(list[0])\n",
        "list"
      ],
      "metadata": {
        "colab": {
          "base_uri": "https://localhost:8080/"
        },
        "id": "W1ON4xrwIaVa",
        "outputId": "3be5394a-64c5-48b1-c097-987ae721eb94"
      },
      "execution_count": null,
      "outputs": [
        {
          "output_type": "execute_result",
          "data": {
            "text/plain": [
              "['54', 4.5, 'star', 65, 'moon']"
            ]
          },
          "metadata": {},
          "execution_count": 7
        }
      ]
    },
    {
      "cell_type": "code",
      "source": [
        "list[1]= int(list[1])\n",
        "list"
      ],
      "metadata": {
        "colab": {
          "base_uri": "https://localhost:8080/"
        },
        "id": "DQ870QAdJEK_",
        "outputId": "5c35f740-d33c-41d4-eb46-461fe572ee78"
      },
      "execution_count": null,
      "outputs": [
        {
          "output_type": "execute_result",
          "data": {
            "text/plain": [
              "['54', 4, 'star', 65, 'moon']"
            ]
          },
          "metadata": {},
          "execution_count": 8
        }
      ]
    },
    {
      "cell_type": "code",
      "source": [
        "list[3]= float(list[3])\n",
        "list"
      ],
      "metadata": {
        "colab": {
          "base_uri": "https://localhost:8080/"
        },
        "id": "5ZXHXWoYJota",
        "outputId": "3a9bc24c-9ad8-4bf8-8643-fe536940eed8"
      },
      "execution_count": null,
      "outputs": [
        {
          "output_type": "execute_result",
          "data": {
            "text/plain": [
              "['54', 4, 'star', 65.0, 'moon']"
            ]
          },
          "metadata": {},
          "execution_count": 9
        }
      ]
    },
    {
      "cell_type": "code",
      "source": [
        "#11. write a program to check whether a number is positive negative or zero\n",
        "number=input(\"enter a number:\")\n",
        "if int(number)>0:\n",
        "  print(\"positive number\")\n",
        "elif int(number)<0:\n",
        "  print(\"negative number\")\n",
        "else:\n",
        "  print(\"zero\")"
      ],
      "metadata": {
        "colab": {
          "base_uri": "https://localhost:8080/"
        },
        "id": "lbZ41gCvJu1M",
        "outputId": "7cdff322-b5af-41ec-8c68-a1f83c378451"
      },
      "execution_count": null,
      "outputs": [
        {
          "output_type": "stream",
          "name": "stdout",
          "text": [
            "enter a number:13\n",
            "positive number\n"
          ]
        }
      ]
    },
    {
      "cell_type": "code",
      "source": [
        "#12. Write a program to print numbers from 1 to 10?\n",
        "for i in range(1,11):\n",
        "   print(i)"
      ],
      "metadata": {
        "colab": {
          "base_uri": "https://localhost:8080/"
        },
        "id": "5DbY1ywOncUT",
        "outputId": "508e50b9-8455-4291-8fad-212eb3401b07"
      },
      "execution_count": null,
      "outputs": [
        {
          "output_type": "stream",
          "name": "stdout",
          "text": [
            "1\n",
            "2\n",
            "3\n",
            "4\n",
            "5\n",
            "6\n",
            "7\n",
            "8\n",
            "9\n",
            "10\n"
          ]
        }
      ]
    },
    {
      "cell_type": "code",
      "source": [
        "#13. Write a python program to find the sum of all even numbers betwwen 1 to 50?\n",
        "sum=0\n",
        "for i in range(1,51):\n",
        "  if i%2==0:\n",
        "    sum=sum+i\n",
        "print(sum)"
      ],
      "metadata": {
        "colab": {
          "base_uri": "https://localhost:8080/"
        },
        "id": "BJ161OERoAV6",
        "outputId": "0834730b-08d3-45d8-a63c-bd30d8c03f56"
      },
      "execution_count": null,
      "outputs": [
        {
          "output_type": "stream",
          "name": "stdout",
          "text": [
            "650\n"
          ]
        }
      ]
    },
    {
      "cell_type": "code",
      "source": [
        "#14. write a program to reverse a string using a while loop?\n",
        "h= \"teacher\"\n",
        "while len(h)>0:\n",
        "  print(h[-1])\n",
        "  h=h[:-1]"
      ],
      "metadata": {
        "id": "jgSXSrRMxH0B",
        "colab": {
          "base_uri": "https://localhost:8080/"
        },
        "outputId": "6189b4d0-bc57-4691-c405-f864637880d7"
      },
      "execution_count": null,
      "outputs": [
        {
          "output_type": "stream",
          "name": "stdout",
          "text": [
            "r\n",
            "e\n",
            "h\n",
            "c\n",
            "a\n",
            "e\n",
            "t\n"
          ]
        }
      ]
    },
    {
      "cell_type": "code",
      "source": [
        "#15. Write a python program to write the factorial of a number provided by the user using a while loop?\n",
        "v=int(input(\"enter a number:\"))\n",
        "fact=1\n",
        "while v>0:\n",
        "  fact=fact*v\n",
        "  v=v-1\n",
        "print(fact)"
      ],
      "metadata": {
        "id": "XQzOYwcxxLZZ",
        "colab": {
          "base_uri": "https://localhost:8080/"
        },
        "outputId": "6f5d5609-2a3e-4b91-e28f-42aabb8638d7"
      },
      "execution_count": null,
      "outputs": [
        {
          "output_type": "stream",
          "name": "stdout",
          "text": [
            "enter a number:6\n",
            "720\n"
          ]
        }
      ]
    },
    {
      "cell_type": "code",
      "source": [],
      "metadata": {
        "id": "9L-fpvYbfy8p"
      },
      "execution_count": null,
      "outputs": []
    }
  ]
}